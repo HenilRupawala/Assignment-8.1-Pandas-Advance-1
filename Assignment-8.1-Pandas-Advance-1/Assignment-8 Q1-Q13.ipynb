{
 "cells": [
  {
   "cell_type": "markdown",
   "id": "4d22ca74-9f14-4ba6-bbfd-9466b341fc32",
   "metadata": {},
   "source": [
    "##### Q1. List any five functions of the pandas library with execution."
   ]
  },
  {
   "cell_type": "markdown",
   "id": "2e4d8e99-92e7-4bfe-a67d-ef0785ad5cdc",
   "metadata": {},
   "source": [
    "Here are five functions from the pandas library along with their brief descriptions and example executions:"
   ]
  },
  {
   "cell_type": "markdown",
   "id": "2e41e5d9-d62a-457f-b469-fc50e228d4ed",
   "metadata": {},
   "source": [
    "**1. read_csv():** This function is used to read data from a CSV file and create a DataFrame."
   ]
  },
  {
   "cell_type": "code",
   "execution_count": 5,
   "id": "5742b8b5-04cb-4d09-8359-a2eb4d4cdf39",
   "metadata": {},
   "outputs": [
    {
     "data": {
      "text/html": [
       "<div>\n",
       "<style scoped>\n",
       "    .dataframe tbody tr th:only-of-type {\n",
       "        vertical-align: middle;\n",
       "    }\n",
       "\n",
       "    .dataframe tbody tr th {\n",
       "        vertical-align: top;\n",
       "    }\n",
       "\n",
       "    .dataframe thead th {\n",
       "        text-align: right;\n",
       "    }\n",
       "</style>\n",
       "<table border=\"1\" class=\"dataframe\">\n",
       "  <thead>\n",
       "    <tr style=\"text-align: right;\">\n",
       "      <th></th>\n",
       "      <th>Year</th>\n",
       "      <th>Industry_aggregation_NZSIOC</th>\n",
       "      <th>Industry_code_NZSIOC</th>\n",
       "      <th>Industry_name_NZSIOC</th>\n",
       "      <th>Units</th>\n",
       "      <th>Variable_code</th>\n",
       "      <th>Variable_name</th>\n",
       "      <th>Variable_category</th>\n",
       "      <th>Value</th>\n",
       "      <th>Industry_code_ANZSIC06</th>\n",
       "    </tr>\n",
       "  </thead>\n",
       "  <tbody>\n",
       "    <tr>\n",
       "      <th>0</th>\n",
       "      <td>2021.0</td>\n",
       "      <td>Level 1</td>\n",
       "      <td>99999.0</td>\n",
       "      <td>All industries</td>\n",
       "      <td>Dollars (millions)</td>\n",
       "      <td>H01</td>\n",
       "      <td>Total income</td>\n",
       "      <td>Financial performance</td>\n",
       "      <td>757,504</td>\n",
       "      <td>ANZSIC06 divisions A-S (excluding classes K633...</td>\n",
       "    </tr>\n",
       "    <tr>\n",
       "      <th>1</th>\n",
       "      <td>2021.0</td>\n",
       "      <td>Level 1</td>\n",
       "      <td>99999.0</td>\n",
       "      <td>All industries</td>\n",
       "      <td>Dollars (millions)</td>\n",
       "      <td>H04</td>\n",
       "      <td>Sales, government funding, grants and subsidies</td>\n",
       "      <td>Financial performance</td>\n",
       "      <td>674,890</td>\n",
       "      <td>ANZSIC06 divisions A-S (excluding classes K633...</td>\n",
       "    </tr>\n",
       "    <tr>\n",
       "      <th>2</th>\n",
       "      <td>2021.0</td>\n",
       "      <td>Level 1</td>\n",
       "      <td>99999.0</td>\n",
       "      <td>All industries</td>\n",
       "      <td>Dollars (millions)</td>\n",
       "      <td>H05</td>\n",
       "      <td>Interest, dividends and donations</td>\n",
       "      <td>Financial performance</td>\n",
       "      <td>49,593</td>\n",
       "      <td>ANZSIC06 divisions A-S (excluding classes K633...</td>\n",
       "    </tr>\n",
       "    <tr>\n",
       "      <th>3</th>\n",
       "      <td>2021.0</td>\n",
       "      <td>Level 1</td>\n",
       "      <td>99999.0</td>\n",
       "      <td>All industries</td>\n",
       "      <td>Dollars (millions)</td>\n",
       "      <td>H07</td>\n",
       "      <td>Non-operating income</td>\n",
       "      <td>Financial performance</td>\n",
       "      <td>33,020</td>\n",
       "      <td>ANZSIC06 divisions A-S (excluding classes K633...</td>\n",
       "    </tr>\n",
       "    <tr>\n",
       "      <th>4</th>\n",
       "      <td>2021.0</td>\n",
       "      <td>Level 1</td>\n",
       "      <td>99999.0</td>\n",
       "      <td>All industries</td>\n",
       "      <td>Dollars (millions)</td>\n",
       "      <td>H08</td>\n",
       "      <td>Total expenditure</td>\n",
       "      <td>Financial performance</td>\n",
       "      <td>654,404</td>\n",
       "      <td>ANZSIC06 divisions A-S (excluding classes K633...</td>\n",
       "    </tr>\n",
       "    <tr>\n",
       "      <th>...</th>\n",
       "      <td>...</td>\n",
       "      <td>...</td>\n",
       "      <td>...</td>\n",
       "      <td>...</td>\n",
       "      <td>...</td>\n",
       "      <td>...</td>\n",
       "      <td>...</td>\n",
       "      <td>...</td>\n",
       "      <td>...</td>\n",
       "      <td>...</td>\n",
       "    </tr>\n",
       "    <tr>\n",
       "      <th>41704</th>\n",
       "      <td>NaN</td>\n",
       "      <td>NaN</td>\n",
       "      <td>NaN</td>\n",
       "      <td>NaN</td>\n",
       "      <td>NaN</td>\n",
       "      <td>NaN</td>\n",
       "      <td>NaN</td>\n",
       "      <td>NaN</td>\n",
       "      <td>NaN</td>\n",
       "      <td>NaN</td>\n",
       "    </tr>\n",
       "    <tr>\n",
       "      <th>41705</th>\n",
       "      <td>NaN</td>\n",
       "      <td>NaN</td>\n",
       "      <td>NaN</td>\n",
       "      <td>NaN</td>\n",
       "      <td>NaN</td>\n",
       "      <td>NaN</td>\n",
       "      <td>NaN</td>\n",
       "      <td>NaN</td>\n",
       "      <td>NaN</td>\n",
       "      <td>NaN</td>\n",
       "    </tr>\n",
       "    <tr>\n",
       "      <th>41706</th>\n",
       "      <td>NaN</td>\n",
       "      <td>NaN</td>\n",
       "      <td>NaN</td>\n",
       "      <td>NaN</td>\n",
       "      <td>NaN</td>\n",
       "      <td>NaN</td>\n",
       "      <td>NaN</td>\n",
       "      <td>NaN</td>\n",
       "      <td>NaN</td>\n",
       "      <td>NaN</td>\n",
       "    </tr>\n",
       "    <tr>\n",
       "      <th>41707</th>\n",
       "      <td>NaN</td>\n",
       "      <td>NaN</td>\n",
       "      <td>NaN</td>\n",
       "      <td>NaN</td>\n",
       "      <td>NaN</td>\n",
       "      <td>NaN</td>\n",
       "      <td>NaN</td>\n",
       "      <td>NaN</td>\n",
       "      <td>NaN</td>\n",
       "      <td>NaN</td>\n",
       "    </tr>\n",
       "    <tr>\n",
       "      <th>41708</th>\n",
       "      <td>NaN</td>\n",
       "      <td>NaN</td>\n",
       "      <td>NaN</td>\n",
       "      <td>NaN</td>\n",
       "      <td>NaN</td>\n",
       "      <td>NaN</td>\n",
       "      <td>NaN</td>\n",
       "      <td>NaN</td>\n",
       "      <td>NaN</td>\n",
       "      <td>NaN</td>\n",
       "    </tr>\n",
       "  </tbody>\n",
       "</table>\n",
       "<p>41709 rows × 10 columns</p>\n",
       "</div>"
      ],
      "text/plain": [
       "         Year Industry_aggregation_NZSIOC  Industry_code_NZSIOC  \\\n",
       "0      2021.0                     Level 1               99999.0   \n",
       "1      2021.0                     Level 1               99999.0   \n",
       "2      2021.0                     Level 1               99999.0   \n",
       "3      2021.0                     Level 1               99999.0   \n",
       "4      2021.0                     Level 1               99999.0   \n",
       "...       ...                         ...                   ...   \n",
       "41704     NaN                         NaN                   NaN   \n",
       "41705     NaN                         NaN                   NaN   \n",
       "41706     NaN                         NaN                   NaN   \n",
       "41707     NaN                         NaN                   NaN   \n",
       "41708     NaN                         NaN                   NaN   \n",
       "\n",
       "      Industry_name_NZSIOC               Units Variable_code  \\\n",
       "0           All industries  Dollars (millions)           H01   \n",
       "1           All industries  Dollars (millions)           H04   \n",
       "2           All industries  Dollars (millions)           H05   \n",
       "3           All industries  Dollars (millions)           H07   \n",
       "4           All industries  Dollars (millions)           H08   \n",
       "...                    ...                 ...           ...   \n",
       "41704                  NaN                 NaN           NaN   \n",
       "41705                  NaN                 NaN           NaN   \n",
       "41706                  NaN                 NaN           NaN   \n",
       "41707                  NaN                 NaN           NaN   \n",
       "41708                  NaN                 NaN           NaN   \n",
       "\n",
       "                                         Variable_name      Variable_category  \\\n",
       "0                                         Total income  Financial performance   \n",
       "1      Sales, government funding, grants and subsidies  Financial performance   \n",
       "2                    Interest, dividends and donations  Financial performance   \n",
       "3                                 Non-operating income  Financial performance   \n",
       "4                                    Total expenditure  Financial performance   \n",
       "...                                                ...                    ...   \n",
       "41704                                              NaN                    NaN   \n",
       "41705                                              NaN                    NaN   \n",
       "41706                                              NaN                    NaN   \n",
       "41707                                              NaN                    NaN   \n",
       "41708                                              NaN                    NaN   \n",
       "\n",
       "         Value                             Industry_code_ANZSIC06  \n",
       "0      757,504  ANZSIC06 divisions A-S (excluding classes K633...  \n",
       "1      674,890  ANZSIC06 divisions A-S (excluding classes K633...  \n",
       "2       49,593  ANZSIC06 divisions A-S (excluding classes K633...  \n",
       "3       33,020  ANZSIC06 divisions A-S (excluding classes K633...  \n",
       "4      654,404  ANZSIC06 divisions A-S (excluding classes K633...  \n",
       "...        ...                                                ...  \n",
       "41704      NaN                                                NaN  \n",
       "41705      NaN                                                NaN  \n",
       "41706      NaN                                                NaN  \n",
       "41707      NaN                                                NaN  \n",
       "41708      NaN                                                NaN  \n",
       "\n",
       "[41709 rows x 10 columns]"
      ]
     },
     "execution_count": 5,
     "metadata": {},
     "output_type": "execute_result"
    }
   ],
   "source": [
    "import pandas as pd\n",
    "\n",
    "# Read data from a CSV file and create a DataFrame\n",
    "data = pd.read_csv('data.csv')\n",
    "\n",
    "data"
   ]
  },
  {
   "cell_type": "markdown",
   "id": "c539f38b-2bcc-4a14-ad06-6f9d70bddd14",
   "metadata": {},
   "source": [
    "**2. df.head():** This function is used to display the first few rows of a DataFrame. It helps you quickly inspect the data."
   ]
  },
  {
   "cell_type": "code",
   "execution_count": 7,
   "id": "c56cad9d-32f8-4adb-bc2a-b926b257a32b",
   "metadata": {},
   "outputs": [
    {
     "data": {
      "text/html": [
       "<div>\n",
       "<style scoped>\n",
       "    .dataframe tbody tr th:only-of-type {\n",
       "        vertical-align: middle;\n",
       "    }\n",
       "\n",
       "    .dataframe tbody tr th {\n",
       "        vertical-align: top;\n",
       "    }\n",
       "\n",
       "    .dataframe thead th {\n",
       "        text-align: right;\n",
       "    }\n",
       "</style>\n",
       "<table border=\"1\" class=\"dataframe\">\n",
       "  <thead>\n",
       "    <tr style=\"text-align: right;\">\n",
       "      <th></th>\n",
       "      <th>Name</th>\n",
       "      <th>Age</th>\n",
       "    </tr>\n",
       "  </thead>\n",
       "  <tbody>\n",
       "    <tr>\n",
       "      <th>0</th>\n",
       "      <td>Henil</td>\n",
       "      <td>24</td>\n",
       "    </tr>\n",
       "    <tr>\n",
       "      <th>1</th>\n",
       "      <td>Hansraj</td>\n",
       "      <td>23</td>\n",
       "    </tr>\n",
       "    <tr>\n",
       "      <th>2</th>\n",
       "      <td>Abhi</td>\n",
       "      <td>25</td>\n",
       "    </tr>\n",
       "    <tr>\n",
       "      <th>3</th>\n",
       "      <td>Yash</td>\n",
       "      <td>22</td>\n",
       "    </tr>\n",
       "    <tr>\n",
       "      <th>4</th>\n",
       "      <td>Jay</td>\n",
       "      <td>23</td>\n",
       "    </tr>\n",
       "  </tbody>\n",
       "</table>\n",
       "</div>"
      ],
      "text/plain": [
       "      Name  Age\n",
       "0    Henil   24\n",
       "1  Hansraj   23\n",
       "2     Abhi   25\n",
       "3     Yash   22\n",
       "4      Jay   23"
      ]
     },
     "execution_count": 7,
     "metadata": {},
     "output_type": "execute_result"
    }
   ],
   "source": [
    "import pandas as pd\n",
    "\n",
    "data = {'Name': ['Henil', 'Hansraj', 'Abhi', 'Yash', 'Jay'],\n",
    "        'Age': [24, 23, 25, 22, 23]}\n",
    "\n",
    "df = pd.DataFrame(data)\n",
    "\n",
    "df.head()"
   ]
  },
  {
   "cell_type": "markdown",
   "id": "a4383564-8081-4f7a-8023-7d167b36dc37",
   "metadata": {},
   "source": [
    "**3. df.info():** This function provides information about the DataFrame, including the data types of columns and the number of non-null values."
   ]
  },
  {
   "cell_type": "code",
   "execution_count": 9,
   "id": "6a726df5-7a82-469c-bc1c-845437f077f3",
   "metadata": {},
   "outputs": [
    {
     "name": "stdout",
     "output_type": "stream",
     "text": [
      "<class 'pandas.core.frame.DataFrame'>\n",
      "RangeIndex: 3 entries, 0 to 2\n",
      "Data columns (total 2 columns):\n",
      " #   Column  Non-Null Count  Dtype \n",
      "---  ------  --------------  ----- \n",
      " 0   Name    3 non-null      object\n",
      " 1   Age     3 non-null      int64 \n",
      "dtypes: int64(1), object(1)\n",
      "memory usage: 176.0+ bytes\n"
     ]
    }
   ],
   "source": [
    "import pandas as pd\n",
    "\n",
    "data = {'Name': ['Henil', 'Yash', 'Abhi'],\n",
    "        'Age': [24, 22, 25]}\n",
    "\n",
    "df = pd.DataFrame(data)\n",
    "\n",
    "df.info()"
   ]
  },
  {
   "cell_type": "markdown",
   "id": "b1247e19-7197-40cc-bbae-79e6cb5fc72f",
   "metadata": {},
   "source": [
    "**4. df.describe():** This function generates descriptive statistics of the numerical columns in the DataFrame, such as mean, standard deviation, minimum, maximum, etc."
   ]
  },
  {
   "cell_type": "code",
   "execution_count": 2,
   "id": "eaa6ea62-aaca-4a02-97d4-d9aaaf493cd8",
   "metadata": {},
   "outputs": [
    {
     "data": {
      "text/html": [
       "<div>\n",
       "<style scoped>\n",
       "    .dataframe tbody tr th:only-of-type {\n",
       "        vertical-align: middle;\n",
       "    }\n",
       "\n",
       "    .dataframe tbody tr th {\n",
       "        vertical-align: top;\n",
       "    }\n",
       "\n",
       "    .dataframe thead th {\n",
       "        text-align: right;\n",
       "    }\n",
       "</style>\n",
       "<table border=\"1\" class=\"dataframe\">\n",
       "  <thead>\n",
       "    <tr style=\"text-align: right;\">\n",
       "      <th></th>\n",
       "      <th>Age</th>\n",
       "    </tr>\n",
       "  </thead>\n",
       "  <tbody>\n",
       "    <tr>\n",
       "      <th>count</th>\n",
       "      <td>5.000000</td>\n",
       "    </tr>\n",
       "    <tr>\n",
       "      <th>mean</th>\n",
       "      <td>23.400000</td>\n",
       "    </tr>\n",
       "    <tr>\n",
       "      <th>std</th>\n",
       "      <td>1.140175</td>\n",
       "    </tr>\n",
       "    <tr>\n",
       "      <th>min</th>\n",
       "      <td>22.000000</td>\n",
       "    </tr>\n",
       "    <tr>\n",
       "      <th>25%</th>\n",
       "      <td>23.000000</td>\n",
       "    </tr>\n",
       "    <tr>\n",
       "      <th>50%</th>\n",
       "      <td>23.000000</td>\n",
       "    </tr>\n",
       "    <tr>\n",
       "      <th>75%</th>\n",
       "      <td>24.000000</td>\n",
       "    </tr>\n",
       "    <tr>\n",
       "      <th>max</th>\n",
       "      <td>25.000000</td>\n",
       "    </tr>\n",
       "  </tbody>\n",
       "</table>\n",
       "</div>"
      ],
      "text/plain": [
       "             Age\n",
       "count   5.000000\n",
       "mean   23.400000\n",
       "std     1.140175\n",
       "min    22.000000\n",
       "25%    23.000000\n",
       "50%    23.000000\n",
       "75%    24.000000\n",
       "max    25.000000"
      ]
     },
     "execution_count": 2,
     "metadata": {},
     "output_type": "execute_result"
    }
   ],
   "source": [
    "import pandas as pd\n",
    "\n",
    "data = {'Age': [24, 23, 25, 22, 23]}\n",
    "\n",
    "df = pd.DataFrame(data)\n",
    "\n",
    "df.describe()"
   ]
  },
  {
   "cell_type": "markdown",
   "id": "229194d3-9180-476c-b6bc-eeaf274fa4b1",
   "metadata": {},
   "source": [
    "**5. df.groupby():** This function is used to group data in a DataFrame based on one or more columns and perform operations on the grouped data."
   ]
  },
  {
   "cell_type": "code",
   "execution_count": 4,
   "id": "201923e7-d381-49b7-abf7-1da539b36a4f",
   "metadata": {},
   "outputs": [
    {
     "data": {
      "text/plain": [
       "Name\n",
       "Abhi       25.0\n",
       "Hansraj    23.0\n",
       "Henil      24.0\n",
       "Jay        23.0\n",
       "Yash       22.0\n",
       "Name: Score, dtype: float64"
      ]
     },
     "execution_count": 4,
     "metadata": {},
     "output_type": "execute_result"
    }
   ],
   "source": [
    "import pandas as pd\n",
    "\n",
    "data = {'Name': ['Henil', 'Hansraj', 'Abhi', 'Yash', 'Jay'],\n",
    "        'Score': [24, 23, 25, 22, 23]}\n",
    "\n",
    "df = pd.DataFrame(data)\n",
    "\n",
    "grouped = df.groupby('Name')['Score'].mean()\n",
    "\n",
    "grouped"
   ]
  },
  {
   "cell_type": "code",
   "execution_count": null,
   "id": "2e348e12-43fc-4390-9988-051348d3cbb0",
   "metadata": {},
   "outputs": [],
   "source": []
  },
  {
   "cell_type": "markdown",
   "id": "5d612c1e-5f4c-4801-8165-34fd96f99cd3",
   "metadata": {},
   "source": [
    "##### Q2. Given a Pandas DataFrame df with columns 'A', 'B', and 'C', write a Python function to re-index the DataFrame with a new index that starts from 1 and increments by 2 for each row."
   ]
  },
  {
   "cell_type": "code",
   "execution_count": 37,
   "id": "412eba7c-6346-4ebe-a319-4470953d2068",
   "metadata": {},
   "outputs": [
    {
     "data": {
      "text/html": [
       "<div>\n",
       "<style scoped>\n",
       "    .dataframe tbody tr th:only-of-type {\n",
       "        vertical-align: middle;\n",
       "    }\n",
       "\n",
       "    .dataframe tbody tr th {\n",
       "        vertical-align: top;\n",
       "    }\n",
       "\n",
       "    .dataframe thead th {\n",
       "        text-align: right;\n",
       "    }\n",
       "</style>\n",
       "<table border=\"1\" class=\"dataframe\">\n",
       "  <thead>\n",
       "    <tr style=\"text-align: right;\">\n",
       "      <th></th>\n",
       "      <th>A</th>\n",
       "      <th>B</th>\n",
       "      <th>C</th>\n",
       "    </tr>\n",
       "  </thead>\n",
       "  <tbody>\n",
       "    <tr>\n",
       "      <th>1</th>\n",
       "      <td>10</td>\n",
       "      <td>40</td>\n",
       "      <td>70</td>\n",
       "    </tr>\n",
       "    <tr>\n",
       "      <th>3</th>\n",
       "      <td>20</td>\n",
       "      <td>50</td>\n",
       "      <td>80</td>\n",
       "    </tr>\n",
       "    <tr>\n",
       "      <th>5</th>\n",
       "      <td>30</td>\n",
       "      <td>60</td>\n",
       "      <td>90</td>\n",
       "    </tr>\n",
       "  </tbody>\n",
       "</table>\n",
       "</div>"
      ],
      "text/plain": [
       "    A   B   C\n",
       "1  10  40  70\n",
       "3  20  50  80\n",
       "5  30  60  90"
      ]
     },
     "execution_count": 37,
     "metadata": {},
     "output_type": "execute_result"
    }
   ],
   "source": [
    "import pandas as pd\n",
    "\n",
    "data = {'A': [10,20,30], 'B':[40,50,60], 'C':[70,80,90]}\n",
    "\n",
    "df = pd.DataFrame(data)\n",
    "\n",
    "def reindex(dataframe):\n",
    "    new_index = pd.RangeIndex(start=1, stop=len(dataframe)*2, step=2)\n",
    "    dataframe.index = new_index\n",
    "    \n",
    "reindex(df)\n",
    "\n",
    "df"
   ]
  },
  {
   "cell_type": "code",
   "execution_count": null,
   "id": "75a8aa61-5109-4a03-a534-e930dad91e02",
   "metadata": {},
   "outputs": [],
   "source": []
  },
  {
   "cell_type": "markdown",
   "id": "c8a492fc-2dde-4713-befe-b2f62b6321a5",
   "metadata": {},
   "source": [
    "##### Q3. You have a Pandas DataFrame df with a column named 'Values'. Write a Python function that iterates over the DataFrame and calculates the sum of the first three values in the 'Values' column. The function should print the sum to the console."
   ]
  },
  {
   "cell_type": "code",
   "execution_count": 5,
   "id": "4fbfb28f-a1db-4d54-a169-393c17a33528",
   "metadata": {},
   "outputs": [
    {
     "data": {
      "text/plain": [
       "'Sum of the first three value: 83'"
      ]
     },
     "execution_count": 5,
     "metadata": {},
     "output_type": "execute_result"
    }
   ],
   "source": [
    "import pandas as pd\n",
    "\n",
    "data = {'Values': [15,23,45,89,48]}\n",
    "\n",
    "df = pd.DataFrame(data)\n",
    "\n",
    "def sum_first_three(dataframe):\n",
    "    \n",
    "    first_three_value = dataframe['Values'][:3]\n",
    "    \n",
    "    sum_first_three_values = first_three_value.sum()\n",
    "    \n",
    "    return f'Sum of the first three value: {sum_first_three_values}'\n",
    "\n",
    "sum_first_three(df)"
   ]
  },
  {
   "cell_type": "code",
   "execution_count": null,
   "id": "05b23695-6977-471e-88f9-f2e7836a240b",
   "metadata": {},
   "outputs": [],
   "source": []
  },
  {
   "cell_type": "markdown",
   "id": "23fe249c-e018-41a6-a424-74d8cc19c79b",
   "metadata": {},
   "source": [
    "##### Q4. Given a Pandas DataFrame df with a column 'Text', write a Python function to create a new column 'Word_Count' that contains the number of words in each row of the 'Text' column."
   ]
  },
  {
   "cell_type": "code",
   "execution_count": 29,
   "id": "3696ef11-a364-41af-ab91-430a14a0ea12",
   "metadata": {},
   "outputs": [
    {
     "data": {
      "text/html": [
       "<div>\n",
       "<style scoped>\n",
       "    .dataframe tbody tr th:only-of-type {\n",
       "        vertical-align: middle;\n",
       "    }\n",
       "\n",
       "    .dataframe tbody tr th {\n",
       "        vertical-align: top;\n",
       "    }\n",
       "\n",
       "    .dataframe thead th {\n",
       "        text-align: right;\n",
       "    }\n",
       "</style>\n",
       "<table border=\"1\" class=\"dataframe\">\n",
       "  <thead>\n",
       "    <tr style=\"text-align: right;\">\n",
       "      <th></th>\n",
       "      <th>Text</th>\n",
       "      <th>Word_Count</th>\n",
       "    </tr>\n",
       "  </thead>\n",
       "  <tbody>\n",
       "    <tr>\n",
       "      <th>0</th>\n",
       "      <td>My name is Henil Rupawala</td>\n",
       "      <td>5</td>\n",
       "    </tr>\n",
       "    <tr>\n",
       "      <th>1</th>\n",
       "      <td>Data Science</td>\n",
       "      <td>2</td>\n",
       "    </tr>\n",
       "    <tr>\n",
       "      <th>2</th>\n",
       "      <td>What a busy day</td>\n",
       "      <td>4</td>\n",
       "    </tr>\n",
       "  </tbody>\n",
       "</table>\n",
       "</div>"
      ],
      "text/plain": [
       "                        Text  Word_Count\n",
       "0  My name is Henil Rupawala           5\n",
       "1               Data Science           2\n",
       "2            What a busy day           4"
      ]
     },
     "execution_count": 29,
     "metadata": {},
     "output_type": "execute_result"
    }
   ],
   "source": [
    "import pandas as pd\n",
    "\n",
    "data = {'Text': ['My name is Henil Rupawala', 'Data Science', 'What a busy day']}\n",
    "\n",
    "df = pd.DataFrame(data)\n",
    "\n",
    "def add_word_count(dataframe, text_column, new_column):\n",
    "    dataframe[new_column] = dataframe[text_column].str.split().apply(len)\n",
    "\n",
    "add_word_count(df, 'Text', 'Word_Count')\n",
    "\n",
    "df"
   ]
  },
  {
   "cell_type": "code",
   "execution_count": null,
   "id": "39dbbab0-265b-4bcb-93f6-c45a8687ce0c",
   "metadata": {},
   "outputs": [],
   "source": []
  },
  {
   "cell_type": "markdown",
   "id": "d4d3b1d6-c5a5-4c4e-b524-e29b919b0749",
   "metadata": {},
   "source": [
    "##### Q5. How are DataFrame.size() and DataFrame.shape() different?"
   ]
  },
  {
   "cell_type": "markdown",
   "id": "d6eb3fb7-68a5-48fb-96f9-cf253cf88f80",
   "metadata": {},
   "source": [
    "**DataFrame.size** and **DataFrame.shape** are both attributes of Pandas DataFrames, but they provide different types of information:\n",
    "\n",
    "**1. DataFrame.size:**\n",
    "- The size attribute returns the total number of elements in the DataFrame, including both rows and columns.\n",
    "- It calculates the size by multiplying the number of rows by the number of columns.\n",
    "- The value returned by size is a single integer.\n",
    "- It gives you a measure of the total number of data points in the DataFrame.\n",
    "\n",
    "Example:"
   ]
  },
  {
   "cell_type": "code",
   "execution_count": 43,
   "id": "c9ffba79-332e-42d3-820b-8594ccdeb33d",
   "metadata": {},
   "outputs": [
    {
     "data": {
      "text/plain": [
       "6"
      ]
     },
     "execution_count": 43,
     "metadata": {},
     "output_type": "execute_result"
    }
   ],
   "source": [
    "import pandas as pd\n",
    "\n",
    "data = {'A': [1, 2, 3], 'B': [4, 5, 6]}\n",
    "df = pd.DataFrame(data)\n",
    "\n",
    "df.size  # Output: 6 (3 rows * 2 columns)"
   ]
  },
  {
   "cell_type": "markdown",
   "id": "50f2e911-c25f-433d-90c6-9988278e1a16",
   "metadata": {},
   "source": [
    "**2. DataFrame.shape:**\n",
    "\n",
    "- The shape attribute returns a tuple representing the dimensions of the DataFrame.\n",
    "- It consists of two values: the number of rows and the number of columns, in that order.\n",
    "- It provides a clear overview of the structure of the DataFrame.\n",
    "\n",
    "Example:"
   ]
  },
  {
   "cell_type": "code",
   "execution_count": 44,
   "id": "fe77da89-104d-4242-a0f7-0c8b6ad28d83",
   "metadata": {},
   "outputs": [
    {
     "data": {
      "text/plain": [
       "(3, 2)"
      ]
     },
     "execution_count": 44,
     "metadata": {},
     "output_type": "execute_result"
    }
   ],
   "source": [
    "import pandas as pd\n",
    "\n",
    "data = {'A': [1, 2, 3], 'B': [4, 5, 6]}\n",
    "df = pd.DataFrame(data)\n",
    "\n",
    "df.shape  # Output: (3, 2) (3 rows, 2 columns)"
   ]
  },
  {
   "cell_type": "code",
   "execution_count": null,
   "id": "ded4e33c-0e87-4ab6-866f-f384a5ad7251",
   "metadata": {},
   "outputs": [],
   "source": []
  },
  {
   "cell_type": "markdown",
   "id": "5f325ec8-dfed-4d99-9e68-235cb99b3fd6",
   "metadata": {},
   "source": [
    "##### Q6. Which function of pandas do we use to read an excel file?"
   ]
  },
  {
   "cell_type": "markdown",
   "id": "18cbc74e-123a-4469-a579-f340739de10b",
   "metadata": {},
   "source": [
    "To read an Excel file in pandas, you can use the **pd.read_excel()** function. This function is used to read data from an Excel file into a pandas DataFrame."
   ]
  },
  {
   "cell_type": "code",
   "execution_count": null,
   "id": "437a1515-a544-4761-a635-ae43fda5e4e3",
   "metadata": {},
   "outputs": [],
   "source": []
  },
  {
   "cell_type": "markdown",
   "id": "a7d52735-a1a7-4d94-a906-f978c244929f",
   "metadata": {},
   "source": [
    "##### Q7. You have a Pandas DataFrame df that contains a column named 'Email' that contains email addresses in the format 'username@domain.com'. Write a Python function that creates a new column 'Username' in df that contains only the username part of each email address."
   ]
  },
  {
   "cell_type": "code",
   "execution_count": 48,
   "id": "26c7264e-598b-4a7f-9d9b-720e578de839",
   "metadata": {},
   "outputs": [
    {
     "data": {
      "text/html": [
       "<div>\n",
       "<style scoped>\n",
       "    .dataframe tbody tr th:only-of-type {\n",
       "        vertical-align: middle;\n",
       "    }\n",
       "\n",
       "    .dataframe tbody tr th {\n",
       "        vertical-align: top;\n",
       "    }\n",
       "\n",
       "    .dataframe thead th {\n",
       "        text-align: right;\n",
       "    }\n",
       "</style>\n",
       "<table border=\"1\" class=\"dataframe\">\n",
       "  <thead>\n",
       "    <tr style=\"text-align: right;\">\n",
       "      <th></th>\n",
       "      <th>Email</th>\n",
       "      <th>Username</th>\n",
       "    </tr>\n",
       "  </thead>\n",
       "  <tbody>\n",
       "    <tr>\n",
       "      <th>0</th>\n",
       "      <td>henilrupawala@gmail.com</td>\n",
       "      <td>henilrupawala</td>\n",
       "    </tr>\n",
       "    <tr>\n",
       "      <th>1</th>\n",
       "      <td>hansraj123@gmail.com</td>\n",
       "      <td>hansraj123</td>\n",
       "    </tr>\n",
       "    <tr>\n",
       "      <th>2</th>\n",
       "      <td>abhi54@gmail.com</td>\n",
       "      <td>abhi54</td>\n",
       "    </tr>\n",
       "  </tbody>\n",
       "</table>\n",
       "</div>"
      ],
      "text/plain": [
       "                     Email       Username\n",
       "0  henilrupawala@gmail.com  henilrupawala\n",
       "1     hansraj123@gmail.com     hansraj123\n",
       "2         abhi54@gmail.com         abhi54"
      ]
     },
     "execution_count": 48,
     "metadata": {},
     "output_type": "execute_result"
    }
   ],
   "source": [
    "import pandas as pd\n",
    "\n",
    "data = {'Email':['henilrupawala@gmail.com', 'hansraj123@gmail.com', 'abhi54@gmail.com']}\n",
    "\n",
    "df = pd.DataFrame(data)\n",
    "\n",
    "def username_from_email(dataframe, Email_column_name, username_column_name):\n",
    "    dataframe[username_column_name] = dataframe[Email_column_name].str.split('@').str[0]\n",
    "    \n",
    "username_from_email(df, 'Email', 'Username')\n",
    "\n",
    "df"
   ]
  },
  {
   "cell_type": "code",
   "execution_count": null,
   "id": "5729d375-a8a2-46a1-a1a7-fc22448605ae",
   "metadata": {},
   "outputs": [],
   "source": []
  },
  {
   "cell_type": "markdown",
   "id": "6899a382-c37d-4e03-99bf-c7981fe86af7",
   "metadata": {},
   "source": [
    "##### Q8. You have a Pandas DataFrame df with columns 'A', 'B', and 'C'. Write a Python function that selects all rows where the value in column 'A' is greater than 5 and the value in column 'B' is less than 10. The function should return a new DataFrame that contains only the selected rows."
   ]
  },
  {
   "cell_type": "code",
   "execution_count": 9,
   "id": "f8a95129-8214-434b-864f-2be1f7b87c9a",
   "metadata": {},
   "outputs": [
    {
     "data": {
      "text/html": [
       "<div>\n",
       "<style scoped>\n",
       "    .dataframe tbody tr th:only-of-type {\n",
       "        vertical-align: middle;\n",
       "    }\n",
       "\n",
       "    .dataframe tbody tr th {\n",
       "        vertical-align: top;\n",
       "    }\n",
       "\n",
       "    .dataframe thead th {\n",
       "        text-align: right;\n",
       "    }\n",
       "</style>\n",
       "<table border=\"1\" class=\"dataframe\">\n",
       "  <thead>\n",
       "    <tr style=\"text-align: right;\">\n",
       "      <th></th>\n",
       "      <th>A</th>\n",
       "      <th>B</th>\n",
       "      <th>C</th>\n",
       "    </tr>\n",
       "  </thead>\n",
       "  <tbody>\n",
       "    <tr>\n",
       "      <th>1</th>\n",
       "      <td>6</td>\n",
       "      <td>6</td>\n",
       "      <td>2</td>\n",
       "    </tr>\n",
       "    <tr>\n",
       "      <th>2</th>\n",
       "      <td>7</td>\n",
       "      <td>9</td>\n",
       "      <td>3</td>\n",
       "    </tr>\n",
       "    <tr>\n",
       "      <th>3</th>\n",
       "      <td>9</td>\n",
       "      <td>8</td>\n",
       "      <td>8</td>\n",
       "    </tr>\n",
       "  </tbody>\n",
       "</table>\n",
       "</div>"
      ],
      "text/plain": [
       "   A  B  C\n",
       "1  6  6  2\n",
       "2  7  9  3\n",
       "3  9  8  8"
      ]
     },
     "execution_count": 9,
     "metadata": {},
     "output_type": "execute_result"
    }
   ],
   "source": [
    "import pandas as pd\n",
    "\n",
    "data = {'A': [2,6,7,9,8,1,4,5,9,4], 'B': [5,6,9,8,13,16,1,6,14,6], 'C': [1,2,3,8,9,12,14,12,11,6]}\n",
    "\n",
    "df = pd.DataFrame(data)\n",
    "\n",
    "def new_dataframe(dataframe):\n",
    "    new_column = (dataframe['A'] > 5) & (dataframe['B'] < 10)\n",
    "    dataframe1 = dataframe[new_column]\n",
    "    return dataframe1\n",
    "\n",
    "df1 = new_dataframe(df)\n",
    "\n",
    "df1"
   ]
  },
  {
   "cell_type": "code",
   "execution_count": null,
   "id": "0cdc7c03-cfcd-4afd-8feb-48879ae05106",
   "metadata": {},
   "outputs": [],
   "source": []
  },
  {
   "cell_type": "markdown",
   "id": "f5aebd9b-2ec1-4d16-9c9a-007df83022fb",
   "metadata": {},
   "source": [
    "##### Q9. Given a Pandas DataFrame df with a column 'Values', write a Python function to calculate the mean, median, and standard deviation of the values in the 'Values' column."
   ]
  },
  {
   "cell_type": "code",
   "execution_count": 36,
   "id": "f5866676-06fd-48bd-8893-355b1b9a7c08",
   "metadata": {},
   "outputs": [
    {
     "name": "stdout",
     "output_type": "stream",
     "text": [
      "Mean: 47.5\n",
      "Median: 45.0\n",
      "Standard Deviation: 34.34696909065319\n"
     ]
    }
   ],
   "source": [
    "import pandas as pd\n",
    "\n",
    "data = {'Values': [12,45,10,45,85,108,25,50]}\n",
    "\n",
    "df = pd.DataFrame(data)\n",
    "\n",
    "def mean_median_stddeviation(dataframe, column_name):\n",
    "    mean_value = dataframe[column_name].mean()\n",
    "    median_value = dataframe[column_name].median()\n",
    "    std_value = dataframe[column_name].std()\n",
    "    new_line = '\\n'\n",
    "    return mean_value, median_value, std_value\n",
    "\n",
    "mean, median, std = mean_median_stddeviation(df, 'Values')\n",
    "\n",
    "print(\"Mean:\", mean)\n",
    "print(\"Median:\", median)\n",
    "print(\"Standard Deviation:\", std)"
   ]
  },
  {
   "cell_type": "code",
   "execution_count": null,
   "id": "b7444820-a413-4bf5-af7c-7a94a933910c",
   "metadata": {},
   "outputs": [],
   "source": []
  },
  {
   "cell_type": "markdown",
   "id": "ff2777ae-47d6-4dd1-ac60-ae44b937b1f7",
   "metadata": {},
   "source": [
    "##### Q10. Given a Pandas DataFrame df with a column 'Sales' and a column 'Date', write a Python function to create a new column 'MovingAverage' that contains the moving average of the sales for the past 7 days for each row in the DataFrame. The moving average should be calculated using a window of size 7 and should include the current day."
   ]
  },
  {
   "cell_type": "code",
   "execution_count": 14,
   "id": "6b9d580d-ab3a-4e12-98fa-9cef56545c94",
   "metadata": {},
   "outputs": [
    {
     "data": {
      "text/html": [
       "<div>\n",
       "<style scoped>\n",
       "    .dataframe tbody tr th:only-of-type {\n",
       "        vertical-align: middle;\n",
       "    }\n",
       "\n",
       "    .dataframe tbody tr th {\n",
       "        vertical-align: top;\n",
       "    }\n",
       "\n",
       "    .dataframe thead th {\n",
       "        text-align: right;\n",
       "    }\n",
       "</style>\n",
       "<table border=\"1\" class=\"dataframe\">\n",
       "  <thead>\n",
       "    <tr style=\"text-align: right;\">\n",
       "      <th></th>\n",
       "      <th>Sales</th>\n",
       "      <th>Date</th>\n",
       "      <th>MovingAverage</th>\n",
       "    </tr>\n",
       "  </thead>\n",
       "  <tbody>\n",
       "    <tr>\n",
       "      <th>0</th>\n",
       "      <td>12</td>\n",
       "      <td>2023-08-01</td>\n",
       "      <td>12.000000</td>\n",
       "    </tr>\n",
       "    <tr>\n",
       "      <th>1</th>\n",
       "      <td>23</td>\n",
       "      <td>2023-08-02</td>\n",
       "      <td>17.500000</td>\n",
       "    </tr>\n",
       "    <tr>\n",
       "      <th>2</th>\n",
       "      <td>45</td>\n",
       "      <td>2023-08-03</td>\n",
       "      <td>26.666667</td>\n",
       "    </tr>\n",
       "    <tr>\n",
       "      <th>3</th>\n",
       "      <td>50</td>\n",
       "      <td>2023-08-04</td>\n",
       "      <td>32.500000</td>\n",
       "    </tr>\n",
       "    <tr>\n",
       "      <th>4</th>\n",
       "      <td>15</td>\n",
       "      <td>2023-08-05</td>\n",
       "      <td>29.000000</td>\n",
       "    </tr>\n",
       "    <tr>\n",
       "      <th>5</th>\n",
       "      <td>25</td>\n",
       "      <td>2023-08-06</td>\n",
       "      <td>28.333333</td>\n",
       "    </tr>\n",
       "    <tr>\n",
       "      <th>6</th>\n",
       "      <td>70</td>\n",
       "      <td>2023-08-07</td>\n",
       "      <td>34.285714</td>\n",
       "    </tr>\n",
       "  </tbody>\n",
       "</table>\n",
       "</div>"
      ],
      "text/plain": [
       "   Sales       Date  MovingAverage\n",
       "0     12 2023-08-01      12.000000\n",
       "1     23 2023-08-02      17.500000\n",
       "2     45 2023-08-03      26.666667\n",
       "3     50 2023-08-04      32.500000\n",
       "4     15 2023-08-05      29.000000\n",
       "5     25 2023-08-06      28.333333\n",
       "6     70 2023-08-07      34.285714"
      ]
     },
     "execution_count": 14,
     "metadata": {},
     "output_type": "execute_result"
    }
   ],
   "source": [
    "import pandas as pd\n",
    "\n",
    "data = {'Sales': [12,23,45,50,15,25,70], 'Date': ['2023-08-01','2023-08-02','2023-08-03','2023-08-04','2023-08-05','2023-08-06','2023-08-07']}\n",
    "\n",
    "df = pd.DataFrame(data)\n",
    "\n",
    "def moving_average(dataframe, value_column_name, date_column_name, window_size):\n",
    "    \n",
    "    dataframe[date_column_name] = pd.to_datetime(dataframe[date_column_name])\n",
    "    \n",
    "    dataframe.sort_values(by=date_column_name, inplace=True)\n",
    "    \n",
    "    dataframe['MovingAverage'] = dataframe[value_column_name].rolling(window=window_size, min_periods=1).mean()\n",
    "    \n",
    "moving_average(df, 'Sales', 'Date', window_size=7)\n",
    "\n",
    "df"
   ]
  },
  {
   "cell_type": "code",
   "execution_count": null,
   "id": "29542957-bc55-4288-8310-0a1743ae1359",
   "metadata": {},
   "outputs": [],
   "source": []
  },
  {
   "cell_type": "markdown",
   "id": "75362b5b-45c9-4c44-ae11-5d811c438801",
   "metadata": {},
   "source": [
    "##### Q11. You have a Pandas DataFrame df with a column 'Date'. Write a Python function that creates a new column 'Weekday' in the DataFrame. The 'Weekday' column should contain the weekday name (e.g. Monday, Tuesday) corresponding to each date in the 'Date' column."
   ]
  },
  {
   "cell_type": "code",
   "execution_count": 30,
   "id": "62c8bea4-8a32-482d-ab20-e4811dbe87f6",
   "metadata": {},
   "outputs": [
    {
     "data": {
      "text/html": [
       "<div>\n",
       "<style scoped>\n",
       "    .dataframe tbody tr th:only-of-type {\n",
       "        vertical-align: middle;\n",
       "    }\n",
       "\n",
       "    .dataframe tbody tr th {\n",
       "        vertical-align: top;\n",
       "    }\n",
       "\n",
       "    .dataframe thead th {\n",
       "        text-align: right;\n",
       "    }\n",
       "</style>\n",
       "<table border=\"1\" class=\"dataframe\">\n",
       "  <thead>\n",
       "    <tr style=\"text-align: right;\">\n",
       "      <th></th>\n",
       "      <th>Date</th>\n",
       "      <th>Weekday</th>\n",
       "    </tr>\n",
       "  </thead>\n",
       "  <tbody>\n",
       "    <tr>\n",
       "      <th>0</th>\n",
       "      <td>2023-08-01</td>\n",
       "      <td>Tuesday</td>\n",
       "    </tr>\n",
       "    <tr>\n",
       "      <th>1</th>\n",
       "      <td>2022-08-10</td>\n",
       "      <td>Wednesday</td>\n",
       "    </tr>\n",
       "    <tr>\n",
       "      <th>2</th>\n",
       "      <td>2002-12-01</td>\n",
       "      <td>Sunday</td>\n",
       "    </tr>\n",
       "    <tr>\n",
       "      <th>3</th>\n",
       "      <td>1999-08-10</td>\n",
       "      <td>Tuesday</td>\n",
       "    </tr>\n",
       "    <tr>\n",
       "      <th>4</th>\n",
       "      <td>2030-11-30</td>\n",
       "      <td>Saturday</td>\n",
       "    </tr>\n",
       "    <tr>\n",
       "      <th>5</th>\n",
       "      <td>2024-02-26</td>\n",
       "      <td>Monday</td>\n",
       "    </tr>\n",
       "  </tbody>\n",
       "</table>\n",
       "</div>"
      ],
      "text/plain": [
       "        Date    Weekday\n",
       "0 2023-08-01    Tuesday\n",
       "1 2022-08-10  Wednesday\n",
       "2 2002-12-01     Sunday\n",
       "3 1999-08-10    Tuesday\n",
       "4 2030-11-30   Saturday\n",
       "5 2024-02-26     Monday"
      ]
     },
     "execution_count": 30,
     "metadata": {},
     "output_type": "execute_result"
    }
   ],
   "source": [
    "import pandas as pd\n",
    "\n",
    "data = {'Date': ['2023-08-01','2022-08-10','2002-12-01','1999-08-10','2030-11-30','2024-02-26']}\n",
    "\n",
    "df = pd.DataFrame(data)\n",
    "\n",
    "def day_from_date(dataframe, date_column_name, days):\n",
    "    dataframe[date_column_name] = pd.to_datetime(dataframe[date_column_name])\n",
    "    dataframe[days] = dataframe[date_column_name].dt.day_name()\n",
    "    \n",
    "day_from_date(df, 'Date', 'Weekday')\n",
    "\n",
    "df"
   ]
  },
  {
   "cell_type": "code",
   "execution_count": null,
   "id": "9b62a051-2139-4937-9682-18f30f641e20",
   "metadata": {},
   "outputs": [],
   "source": []
  },
  {
   "cell_type": "markdown",
   "id": "acb7ba93-047f-4e4a-889e-00602d4eca50",
   "metadata": {},
   "source": [
    "##### Q12. Given a Pandas DataFrame df with a column 'Date' that contains timestamps, write a Python function to select all rows where the date is between '2023-01-01' and '2023-01-31'."
   ]
  },
  {
   "cell_type": "code",
   "execution_count": 39,
   "id": "d8f75110-695e-4fbe-9266-36de51e888f3",
   "metadata": {},
   "outputs": [
    {
     "data": {
      "text/html": [
       "<div>\n",
       "<style scoped>\n",
       "    .dataframe tbody tr th:only-of-type {\n",
       "        vertical-align: middle;\n",
       "    }\n",
       "\n",
       "    .dataframe tbody tr th {\n",
       "        vertical-align: top;\n",
       "    }\n",
       "\n",
       "    .dataframe thead th {\n",
       "        text-align: right;\n",
       "    }\n",
       "</style>\n",
       "<table border=\"1\" class=\"dataframe\">\n",
       "  <thead>\n",
       "    <tr style=\"text-align: right;\">\n",
       "      <th></th>\n",
       "      <th>Date</th>\n",
       "    </tr>\n",
       "  </thead>\n",
       "  <tbody>\n",
       "    <tr>\n",
       "      <th>1</th>\n",
       "      <td>2023-01-10</td>\n",
       "    </tr>\n",
       "    <tr>\n",
       "      <th>3</th>\n",
       "      <td>2023-01-26</td>\n",
       "    </tr>\n",
       "    <tr>\n",
       "      <th>5</th>\n",
       "      <td>2023-01-31</td>\n",
       "    </tr>\n",
       "  </tbody>\n",
       "</table>\n",
       "</div>"
      ],
      "text/plain": [
       "        Date\n",
       "1 2023-01-10\n",
       "3 2023-01-26\n",
       "5 2023-01-31"
      ]
     },
     "execution_count": 39,
     "metadata": {},
     "output_type": "execute_result"
    }
   ],
   "source": [
    "import pandas as pd\n",
    "\n",
    "data = {'Date': ['2023-08-01','2023-01-10','2023-12-01','2023-01-26','2023-11-30','2023-01-31']}\n",
    "\n",
    "df = pd.DataFrame(data)\n",
    "\n",
    "df['Date'] = pd.to_datetime(df['Date'])\n",
    "\n",
    "def select_row_between_dates(dataframe, start_date, end_date):\n",
    "    return dataframe[(dataframe['Date'] >= start_date) & (dataframe['Date'] <= end_date)]\n",
    "\n",
    "start_date = '2023-01-01'\n",
    "end_date = '2023-01-31'\n",
    "\n",
    "select_row_between_dates(df, start_date, end_date)"
   ]
  },
  {
   "cell_type": "code",
   "execution_count": null,
   "id": "38593868-507a-47e5-9594-af1a77566e53",
   "metadata": {},
   "outputs": [],
   "source": []
  },
  {
   "cell_type": "markdown",
   "id": "5651ddc4-7338-4529-a79a-1c6d761fb318",
   "metadata": {},
   "source": [
    "##### Q13. To use the basic functions of pandas, what is the first and foremost necessary library that needs to be imported?"
   ]
  },
  {
   "cell_type": "markdown",
   "id": "c50b9ceb-2087-4440-bbbc-818697a73c08",
   "metadata": {},
   "source": [
    "The first and foremost necessary library that needs to be imported to use the basic functions of pandas is, of course, the **pandas** library itself. The pandas library provides the fundamental data structures (such as DataFrame and Series) and functions for data manipulation and analysis.\n",
    "\n",
    "Here's how you would import the pandas library:"
   ]
  },
  {
   "cell_type": "code",
   "execution_count": 40,
   "id": "822d69e9-a6b3-44d2-9974-44ad64e5c5c4",
   "metadata": {},
   "outputs": [],
   "source": [
    "import pandas as pd"
   ]
  },
  {
   "cell_type": "markdown",
   "id": "621049bb-169d-4013-b628-0ac0aaec5609",
   "metadata": {},
   "source": [
    "By convention, the alias pd is commonly used for pandas to make it easier to refer to the library's functions and objects. Once you've imported pandas, you can start using its functions to work with DataFrames, Series, and various data manipulation and analysis operations."
   ]
  }
 ],
 "metadata": {
  "kernelspec": {
   "display_name": "Python 3 (ipykernel)",
   "language": "python",
   "name": "python3"
  },
  "language_info": {
   "codemirror_mode": {
    "name": "ipython",
    "version": 3
   },
   "file_extension": ".py",
   "mimetype": "text/x-python",
   "name": "python",
   "nbconvert_exporter": "python",
   "pygments_lexer": "ipython3",
   "version": "3.10.8"
  }
 },
 "nbformat": 4,
 "nbformat_minor": 5
}
